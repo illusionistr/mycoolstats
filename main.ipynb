{
 "cells": [
  {
   "cell_type": "code",
   "execution_count": 1,
   "metadata": {},
   "outputs": [],
   "source": [
    "import numpy\n",
    "import seaborn as sns\n",
    "import pandas\n",
    "import torch"
   ]
  },
  {
   "cell_type": "code",
   "execution_count": 3,
   "metadata": {},
   "outputs": [
    {
     "name": "stdout",
     "output_type": "stream",
     "text": [
      "Index(['Date', 'Unnamed: 1', 'Berri1', 'Boyer', 'Brébeuf',\n",
      "       'CSC (Côte Sainte-Catherine)', 'Maisonneuve_1', 'Maisonneuve_2',\n",
      "       'Maisonneuve_3', 'Notre-Dame', 'Parc', 'Parc U-Zelt Test', 'PierDup',\n",
      "       'Pont_Jacques_Cartier', 'Rachel / Hôtel de Ville', 'Rachel / Papineau',\n",
      "       'René-Lévesque', 'Saint-Antoine', 'Saint-Laurent U-Zelt Test',\n",
      "       'Saint-Urbain', 'Totem_Laurier', 'University', 'Viger'],\n",
      "      dtype='object')\n"
     ]
    }
   ],
   "source": [
    "dataset = pandas.read_csv('dataset.csv')\n",
    "print(dataset.columns)"
   ]
  }
 ],
 "metadata": {
  "kernelspec": {
   "display_name": "base",
   "language": "python",
   "name": "python3"
  },
  "language_info": {
   "codemirror_mode": {
    "name": "ipython",
    "version": 3
   },
   "file_extension": ".py",
   "mimetype": "text/x-python",
   "name": "python",
   "nbconvert_exporter": "python",
   "pygments_lexer": "ipython3",
   "version": "3.11.7"
  }
 },
 "nbformat": 4,
 "nbformat_minor": 2
}
